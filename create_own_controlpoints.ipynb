{
 "cells": [
  {
   "cell_type": "code",
   "execution_count": null,
   "id": "592d1141",
   "metadata": {},
   "outputs": [],
   "source": [
    "from shapely.geometry import LineString\n",
    "import numpy as np\n",
    "import os\n",
    "import matplotlib.pyplot as plt\n",
    "%matplotlib inline\n",
    "%config InlineBackend.figure_format = 'retina'\n",
    "\n",
    "data_path = \"images\"\n",
    "data_base_input = os.path.join(data_path, 'mask_vtk/')\n",
    "data_base_output = os.path.join(data_path, 'mask_initial_control_points/')\n",
    "os.makedirs(data_base_output, exist_ok=True)\n",
    "\n",
    "filenames = [file for file in os.listdir(data_base_input)]\n",
    "\n",
    "for filename in filenames:\n",
    "    file = open(os.path.join(data_base_input, filename), 'r')\n",
    "    lines_of_file = file.readlines()\n",
    "\n",
    "    startLine = [i for i,line in enumerate(lines_of_file) if line[:6] == \"POINTS\"][0] + 1\n",
    "    endLine = [i for i,line in enumerate(lines_of_file) if line[:5] == \"LINES\"][0]\n",
    "\n",
    "    list_of_all_points = []\n",
    "    for i in range(startLine,endLine):\n",
    "        list_of_all_points.extend(list(map(float, lines_of_file[i].split())))\n",
    "\n",
    "    x_coordinates = list_of_all_points[0::3]\n",
    "    y_coordinates = list_of_all_points[1::3]\n",
    "\n",
    "    xy_coordinates = []\n",
    "    for i in range(len(x_coordinates)):\n",
    "        xy_coordinates.append([x_coordinates[i], y_coordinates[i]])\n",
    "\n",
    "    line_string = LineString(xy_coordinates)\n",
    "    number_of_points = 200\n",
    "    new_points = [line_string.interpolate(i/float(number_of_points - 1), normalized=True) for i in range(number_of_points)]\n",
    "    equidistant_control_points = [[point.x, point.y] for point in new_points]\n",
    "    np.savetxt(os.path.join(data_base_output, filename[:-4] + '_initial_control_points.txt'), equidistant_control_points, fmt=\"%s\")\n",
    "    \n",
    "    #plot image coordinates and equidistant control points\n",
    "    \"\"\"\n",
    "    x = x_coordinates\n",
    "    y = y_coordinates\n",
    "    x1 = [i[0] for i in equidistant_control_points]\n",
    "    y1 = [i[1] for i in equidistant_control_points]\n",
    "\n",
    "    plt.rcParams['figure.figsize'] = [16.5,10.5 ]\n",
    "    plt.scatter(x,y, c='r', label='image_coordinates')\n",
    "    plt.scatter(x1,y1, c='b', label='equidistant_control_points')\n",
    "    plt.legend(loc='upper right')\n",
    "    plt.gca().invert_yaxis();\n",
    "    plt.title(\"initial_control_points_01\")\n",
    "    plt.show()\n",
    "    \"\"\"\n",
    "print(\"control points created succesfully\")"
   ]
  }
 ],
 "metadata": {
  "kernelspec": {
   "display_name": "Python 3",
   "language": "python",
   "name": "python3"
  },
  "language_info": {
   "codemirror_mode": {
    "name": "ipython",
    "version": 3
   },
   "file_extension": ".py",
   "mimetype": "text/x-python",
   "name": "python",
   "nbconvert_exporter": "python",
   "pygments_lexer": "ipython3",
   "version": "3.7.9"
  }
 },
 "nbformat": 4,
 "nbformat_minor": 5
}
