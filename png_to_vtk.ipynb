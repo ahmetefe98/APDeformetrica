{
 "cells": [
  {
   "cell_type": "code",
   "execution_count": null,
   "id": "05fccdfd",
   "metadata": {},
   "outputs": [],
   "source": [
    "import cv2\n",
    "from vtk.util import numpy_support as nps\n",
    "import vtk\n",
    "import os\n",
    "import numpy as np\n",
    "from tvtk.api import tvtk, write_data # pip install mayavi\n",
    "\n",
    "# settings\n",
    "folder_png = \"images/mask_png\"\n",
    "folder_vtk = \"images/mask_vtk\"\n",
    "\n",
    "# create folder\n",
    "os.makedirs(folder_vtk, exist_ok=True)\n",
    "\n",
    "# get images\n",
    "images = [os.path.join(folder_png, file) for file in os.listdir(folder_png)]\n",
    "\n",
    "def img_to_points(image_path):\n",
    "    # get image\n",
    "    image = cv2.imread(image_path)[:,:,0]\n",
    "    \n",
    "    # to mask\n",
    "    ret, image_mask = cv2.threshold(image,0,255,cv2.THRESH_BINARY)\n",
    "\n",
    "    # get contours\n",
    "    contours, hierarchy = cv2.findContours(image_mask, cv2.RETR_TREE, cv2.CHAIN_APPROX_SIMPLE)\n",
    "    \n",
    "    # keep only biggest contour (in case it is separated for some reason)\n",
    "    contours = max(contours, key = cv2.contourArea)\n",
    "    \n",
    "    # make polygon from contour\n",
    "    polygons = np.array(contours).squeeze()\n",
    "    num_points = len(polygons)\n",
    "\n",
    "    # convert to 3d dimension by setting z to 0\n",
    "    polygons_3d = np.zeros((num_points, 3))\n",
    "    polygons_3d[:,:2] = polygons\n",
    "    \n",
    "    # create lines\n",
    "    num_points = num_points - 1\n",
    "    lines = np.zeros((num_points, 2), 'l')\n",
    "    lines[:, 0] = np.arange(0, num_points - 0.5, 1, 'l')\n",
    "    lines[:, 1] = np.arange(1, num_points + 0.5, 1, 'l')\n",
    "    \n",
    "    return polygons_3d, lines\n",
    "\n",
    "# get polygon\n",
    "for image in images:\n",
    "    mesh_points, mesh_lines = img_to_points(image)\n",
    "    mesh = tvtk.PolyData(points=mesh_points, lines=mesh_lines)\n",
    "    path_out = image.replace(folder_png, folder_vtk).replace(\".png\", \".vtk\")\n",
    "    write_data(mesh, path_out)\n",
    "    \n",
    "print(\"vtks created succesfully\")"
   ]
  }
 ],
 "metadata": {
  "kernelspec": {
   "display_name": "Python 3 (ipykernel)",
   "language": "python",
   "name": "python3"
  },
  "language_info": {
   "codemirror_mode": {
    "name": "ipython",
    "version": 3
   },
   "file_extension": ".py",
   "mimetype": "text/x-python",
   "name": "python",
   "nbconvert_exporter": "python",
   "pygments_lexer": "ipython3",
   "version": "3.8.10"
  }
 },
 "nbformat": 4,
 "nbformat_minor": 5
}
